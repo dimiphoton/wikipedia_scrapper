{
  "cells": [
    {
      "cell_type": "markdown",
      "metadata": {
        "id": "rru15J6cT0aF"
      },
      "source": [
        "# Your first scraper\n",
        "In this project, we will guide you step by step through the process of:\n",
        "\n",
        "1. creating a self-contained development environment.\n",
        "1. retrieving some information from an API (a website for computers)\n",
        "2. leveraging it to scrape a website that does not provide an API\n",
        "3. saving the output for later processing\n",
        "\n",
        "Here we query an API for a list of countries and their past leaders. We then extract and sanitize their short bio from Wikipedia. Finally, we save the data to disk.\n",
        "\n",
        "This task is often the first (coding) step of a datascience project and you will often come back to it in the future.\n",
        "\n",
        "You will study topics such as *scraping*, *data structures*, *regular expressions*, *concurrency* and *file handling*. We will point out useful resources at the appropriate time. \n",
        "\n",
        "Let's dive in!"
      ]
    },
    {
      "cell_type": "markdown",
      "metadata": {},
      "source": [
        "## Creating a clean environment\n",
        "\n",
        "Use the [`venv`](https://docs.python.org/3/library/venv.html) command to create a new environment called `wikipedia_scraper`.\n",
        "\n",
        "You will find more info about virtual environments [here](../2.python/1.python_fundamentals/02.Package-Managers/00.Package_Managers.md).\n",
        "\n",
        "Activate it."
      ]
    },
    {
      "cell_type": "markdown",
      "metadata": {
        "id": "48qvKH56a1Wy"
      },
      "source": [
        "## API Scraping\n",
        "\n",
        "### A simple API query\n",
        "You will start with the basics: how to do a simple request to an [API endpoint](../../2.python/2.python_advanced/05.Scraping/5.apis.ipynb).\n",
        "\n",
        "You will use the [requests](https://requests.readthedocs.io/en/latest/) external library through the `import` keyword.\n",
        "\n",
        "NOTE: external libraries need to be installed first. Check their documentation.\n",
        "\n",
        "Check the [Quickstart](https://requests.readthedocs.io/en/latest/user/quickstart/) section of the Requests documentation to:\n",
        "1. use the `get()` method to connect to this endpoint: https://country-leaders.onrender.com/status\n",
        "2. check if the `status_code` is equal to 200, which means OK.\n",
        "    * if OK, `print()` the `text`` of the response.\n",
        "    * if not, `print()` the `status_code`. \n",
        "\n",
        "Here is the signification of [HTTP status codes](https://en.wikipedia.org/wiki/List_of_HTTP_status_codes).\n"
      ]
    },
    {
      "cell_type": "code",
      "execution_count": 4,
      "metadata": {
        "id": "9baoMWgIcK3E"
      },
      "outputs": [
        {
          "name": "stdout",
          "output_type": "stream",
          "text": [
            "b'\"Alive\"'\n"
          ]
        }
      ],
      "source": [
        "# import the requests library (1 line)\n",
        "import requests\n",
        "# assign the root url (without /status) to the root_url variable for ease of reference (1 line)\n",
        "url = \"https://country-leaders.onrender.com/\"\n",
        "# assign the /status endpoint to another variable called status_url (1 line)\n",
        "status_url = \"status\"\n",
        "# query the /status endpoint using the get() method and store it in the req variable (1 line)\n",
        "req = requests.get(url + status_url)\n",
        "# check the status_code using a condition and print appropriate messages (4 lines)\n",
        "if req.status_code == 200:\n",
        "    print(req.content)\n",
        "else:\n",
        "    print(f\"A problem has occured during the request to {url}/{status_url}!\")\n"
      ]
    },
    {
      "cell_type": "markdown",
      "metadata": {
        "id": "TL72ovJUcZTA"
      },
      "source": [
        "### Dealing with JSON\n",
        "\n",
        "[JSON](https://quickref.me/json) is the preferred format to deal with data over the web. You cannot avoid it so you would better get acquainted.\n",
        "\n",
        "Connect to another endpoint called `/countries` but this time the API will return data in the JSON format. Check what to do in the Requests [Quickstart](https://requests.readthedocs.io/en/latest/user/quickstart/).\n"
      ]
    },
    {
      "cell_type": "code",
      "execution_count": 5,
      "metadata": {
        "id": "Y0DLiYCWcg5W"
      },
      "outputs": [
        {
          "name": "stdout",
          "output_type": "stream",
          "text": [
            "403 {'message': 'The cookie is missing'}\n"
          ]
        }
      ],
      "source": [
        "# Set the country_url variable (1 line)\n",
        "country_url = \"countries\"\n",
        "# query the /countries endpoint using the get() method and store it in the req variable (1 line)\n",
        "req = requests.get(url + country_url)\n",
        "# Get the JSON content and store it in the countries variable (1 line)\n",
        "countries = req.json()\n",
        "# display the request's status code and the countries variable (1 line)\n",
        "print(req.status_code, countries)"
      ]
    },
    {
      "cell_type": "markdown",
      "metadata": {
        "id": "1x25JA6vaRBi"
      },
      "source": [
        "### Cookies anyone?\n",
        "\n",
        "It looks like the access to this API is restricted...\n",
        "Query the `/cookie` endpoint and extract the appropriate field to access your cookie.\n",
        "\n",
        "You will need to use this cookie in each of the following API requests."
      ]
    },
    {
      "cell_type": "code",
      "execution_count": 6,
      "metadata": {
        "id": "dTDwpN9Q3nk_"
      },
      "outputs": [],
      "source": [
        "# Set the cookie_url variable (1 line)\n",
        "cookie_url = \"cookie\"\n",
        "# Query the enpoint, set the cookies variable and display it (3 lines)\n",
        "cookies = requests.get(url + cookie_url)"
      ]
    },
    {
      "cell_type": "markdown",
      "metadata": {
        "id": "DHBNaFJo2M9e"
      },
      "source": [
        "Try to query the countries endpoint using the cookie, save the output and print it."
      ]
    },
    {
      "cell_type": "code",
      "execution_count": 7,
      "metadata": {
        "id": "9Y63sTXY7ppT"
      },
      "outputs": [],
      "source": [
        "# query the /countries endpoint, assign the output to the countries variable (1 line)\n",
        "countries = requests.get(url + country_url)\n",
        "# and check the status code and the countries variable's content (3 lines)\n",
        "if countries.status_code == 200:\n",
        "    print(countries.json())"
      ]
    },
    {
      "cell_type": "code",
      "execution_count": 8,
      "metadata": {},
      "outputs": [
        {
          "name": "stdout",
          "output_type": "stream",
          "text": [
            "['us', 'ma', 'be', 'fr', 'ru']\n"
          ]
        }
      ],
      "source": [
        "cookies = requests.get(url + cookie_url)\n",
        "countries = requests.get(url + country_url, cookies= cookies.cookies)\n",
        "if countries.status_code == 200:\n",
        "    print(countries.json())"
      ]
    },
    {
      "cell_type": "markdown",
      "metadata": {
        "id": "I3HmuGTT9lU1"
      },
      "source": [
        "Chances are the cookie has expired... Thanksfully, you got a nice error message. For now, simply execute the last 2 cells quickly so you get a result."
      ]
    },
    {
      "cell_type": "markdown",
      "metadata": {
        "id": "Egv40GBV8rSH"
      },
      "source": [
        "### Getting the actual data from the API\n",
        "\n",
        "Query the `/leaders` endpoint."
      ]
    },
    {
      "cell_type": "code",
      "execution_count": 9,
      "metadata": {
        "id": "ZwLFqcBA8PaD"
      },
      "outputs": [
        {
          "name": "stdout",
          "output_type": "stream",
          "text": [
            "404\n"
          ]
        }
      ],
      "source": [
        "# query the /leaders endpoint, assign the output to the leaders variable (1 line)\n",
        "leaders_url = \"leaders\"\n",
        "cookies = requests.get(url + cookie_url)\n",
        "leaders = requests.get(url + leaders_url,  cookies= cookies.cookies)\n",
        "# and check its content (4 lines)\n",
        "if leaders.status_code == 200:\n",
        "    print(leaders.json())\n",
        "else:\n",
        "    print(leaders.status_code)"
      ]
    },
    {
      "cell_type": "markdown",
      "metadata": {
        "id": "1QyM7vWBAlY4"
      },
      "source": [
        "It looks like this endpoint requires additional information in order to return its result. Check the API [*documentation*](https://country-leaders.onrender.com/docs) in your web browser.\n",
        "\n",
        "Change the query to accept *parameters*. You should know where to find help by now."
      ]
    },
    {
      "cell_type": "code",
      "execution_count": 10,
      "metadata": {
        "id": "gIEFBhBeAkzf"
      },
      "outputs": [
        {
          "name": "stdout",
          "output_type": "stream",
          "text": [
            "https://en.wikipedia.org/wiki/George_Washington\n",
            "https://en.wikipedia.org/wiki/Barack_Obama\n",
            "https://en.wikipedia.org/wiki/Abraham_Lincoln\n",
            "https://en.wikipedia.org/wiki/George_W._Bush\n",
            "https://en.wikipedia.org/wiki/Bill_Clinton\n",
            "https://en.wikipedia.org/wiki/Joe_Biden\n",
            "https://en.wikipedia.org/wiki/Franklin_D._Roosevelt\n",
            "https://en.wikipedia.org/wiki/Andrew_Johnson\n",
            "https://en.wikipedia.org/wiki/Gerald_Ford\n",
            "https://en.wikipedia.org/wiki/Richard_Nixon\n",
            "https://en.wikipedia.org/wiki/Lyndon_B._Johnson\n",
            "https://en.wikipedia.org/wiki/John_F._Kennedy\n",
            "https://en.wikipedia.org/wiki/Dwight_D._Eisenhower\n",
            "https://en.wikipedia.org/wiki/Ronald_Reagan\n",
            "https://en.wikipedia.org/wiki/Harry_S._Truman\n",
            "https://en.wikipedia.org/wiki/John_Adams\n",
            "https://en.wikipedia.org/wiki/Thomas_Jefferson\n",
            "https://en.wikipedia.org/wiki/James_Madison\n",
            "https://en.wikipedia.org/wiki/James_Monroe\n",
            "https://en.wikipedia.org/wiki/John_Quincy_Adams\n",
            "https://en.wikipedia.org/wiki/Andrew_Jackson\n",
            "https://en.wikipedia.org/wiki/Martin_Van_Buren\n",
            "https://en.wikipedia.org/wiki/William_Henry_Harrison\n",
            "https://en.wikipedia.org/wiki/John_Tyler\n",
            "https://en.wikipedia.org/wiki/James_K._Polk\n",
            "https://en.wikipedia.org/wiki/Zachary_Taylor\n",
            "https://en.wikipedia.org/wiki/Millard_Fillmore\n",
            "https://en.wikipedia.org/wiki/Franklin_Pierce\n",
            "https://en.wikipedia.org/wiki/James_Buchanan\n",
            "https://en.wikipedia.org/wiki/Donald_Trump\n",
            "https://en.wikipedia.org/wiki/George_H._W._Bush\n",
            "https://en.wikipedia.org/wiki/Jimmy_Carter\n",
            "https://en.wikipedia.org/wiki/Theodore_Roosevelt\n",
            "https://en.wikipedia.org/wiki/Woodrow_Wilson\n",
            "https://en.wikipedia.org/wiki/James_A._Garfield\n",
            "https://en.wikipedia.org/wiki/Ulysses_S._Grant\n",
            "https://en.wikipedia.org/wiki/William_McKinley\n",
            "https://en.wikipedia.org/wiki/Grover_Cleveland\n",
            "https://en.wikipedia.org/wiki/Herbert_Hoover\n",
            "https://en.wikipedia.org/wiki/Warren_G._Harding\n",
            "https://en.wikipedia.org/wiki/Chester_A._Arthur\n",
            "https://en.wikipedia.org/wiki/William_Howard_Taft\n",
            "https://en.wikipedia.org/wiki/Benjamin_Harrison\n",
            "https://en.wikipedia.org/wiki/Rutherford_B._Hayes\n",
            "https://en.wikipedia.org/wiki/Calvin_Coolidge\n",
            "https://ar.wikipedia.org/wiki/%D9%85%D8%AD%D9%85%D8%AF_%D8%A7%D9%84%D8%B3%D8%A7%D8%AF%D8%B3_%D8%A8%D9%86_%D8%A7%D9%84%D8%AD%D8%B3%D9%86\n",
            "https://ar.wikipedia.org/wiki/%D8%A7%D9%84%D8%AD%D8%B3%D9%86_%D8%A7%D9%84%D8%AB%D8%A7%D9%86%D9%8A_%D8%A8%D9%86_%D9%85%D8%AD%D9%85%D8%AF\n",
            "https://ar.wikipedia.org/wiki/%D9%85%D8%AD%D9%85%D8%AF_%D8%A7%D9%84%D8%AE%D8%A7%D9%85%D8%B3_%D8%A8%D9%86_%D9%8A%D9%88%D8%B3%D9%81\n",
            "https://ar.wikipedia.org/wiki/%D8%A7%D9%84%D9%82%D8%A7%D8%A6%D9%85_%D8%A8%D8%A3%D9%85%D8%B1_%D8%A7%D9%84%D9%84%D9%87_%D8%A7%D9%84%D8%B3%D8%B9%D8%AF%D9%8A\n",
            "https://nl.wikipedia.org/wiki/Guy_Verhofstadt\n",
            "https://nl.wikipedia.org/wiki/Yves_Leterme\n",
            "https://nl.wikipedia.org/wiki/Herman_Van_Rompuy\n",
            "https://nl.wikipedia.org/wiki/L%C3%A9on_Delacroix\n",
            "https://nl.wikipedia.org/wiki/Henri_Carton_de_Wiart\n",
            "https://nl.wikipedia.org/wiki/Georges_Theunis\n",
            "https://nl.wikipedia.org/wiki/Aloys_Van_de_Vyvere\n",
            "https://nl.wikipedia.org/wiki/Prosper_Poullet\n",
            "https://nl.wikipedia.org/wiki/Henri_Jaspar\n",
            "https://nl.wikipedia.org/wiki/Jules_Renkin\n",
            "https://nl.wikipedia.org/wiki/Paul_van_Zeeland\n",
            "https://nl.wikipedia.org/wiki/Achiel_Van_Acker\n",
            "https://nl.wikipedia.org/wiki/Camille_Huysmans\n",
            "https://nl.wikipedia.org/wiki/Gaston_Eyskens\n",
            "https://nl.wikipedia.org/wiki/Leo_Tindemans\n",
            "https://nl.wikipedia.org/wiki/Elio_Di_Rupo\n",
            "https://nl.wikipedia.org/wiki/Jean-Luc_Dehaene\n",
            "https://nl.wikipedia.org/wiki/Frans_Schollaert\n",
            "https://nl.wikipedia.org/wiki/Pieter_de_Decker\n",
            "https://nl.wikipedia.org/wiki/Paul-Henri_Spaak\n",
            "https://nl.wikipedia.org/wiki/Auguste_Beernaert\n",
            "https://nl.wikipedia.org/wiki/Th%C3%A9o_Lef%C3%A8vre\n",
            "https://nl.wikipedia.org/wiki/Paul_Vanden_Boeynants\n",
            "https://nl.wikipedia.org/wiki/Etienne_de_Gerlache\n",
            "https://nl.wikipedia.org/wiki/Wilfried_Martens\n",
            "https://nl.wikipedia.org/wiki/Mark_Eyskens\n",
            "https://nl.wikipedia.org/wiki/Pierre_Harmel\n",
            "https://nl.wikipedia.org/wiki/Hubert_Pierlot\n",
            "https://nl.wikipedia.org/wiki/Jean-Baptiste_Nothomb\n",
            "https://nl.wikipedia.org/wiki/Edmond_Leburton\n",
            "https://nl.wikipedia.org/wiki/Jean_Duvieusart\n",
            "https://nl.wikipedia.org/wiki/Joseph_Lebeau\n",
            "https://nl.wikipedia.org/wiki/Charles_Rogier\n",
            "https://nl.wikipedia.org/wiki/Barth%C3%A9lemy_de_Theux_de_Meylandt\n",
            "https://nl.wikipedia.org/wiki/Felix_de_M%C3%BBelenaere\n",
            "https://nl.wikipedia.org/wiki/Alexander_De_Croo\n",
            "https://nl.wikipedia.org/wiki/Henri_de_Brouck%C3%A8re\n",
            "https://nl.wikipedia.org/wiki/Albert_Goblet_d%27Alviella\n",
            "https://nl.wikipedia.org/wiki/Sylvain_Van_de_Weyer\n",
            "https://nl.wikipedia.org/wiki/Jules_de_Burlet\n",
            "https://nl.wikipedia.org/wiki/Paul-Emile_Janson\n",
            "https://nl.wikipedia.org/wiki/Jules_Malou\n",
            "https://nl.wikipedia.org/wiki/Charles_de_Broqueville\n",
            "https://nl.wikipedia.org/wiki/Joseph_Pholien\n",
            "https://nl.wikipedia.org/wiki/Jean_Van_Houtte\n",
            "https://nl.wikipedia.org/wiki/Walth%C3%A8re_Fr%C3%A8re-Orban\n",
            "https://nl.wikipedia.org/wiki/Gerard_Cooreman\n",
            "https://nl.wikipedia.org/wiki/Jules_Vandenpeereboom\n",
            "https://nl.wikipedia.org/wiki/Paul_de_Smet_de_Naeyer\n",
            "https://nl.wikipedia.org/wiki/Jules_de_Trooz\n",
            "https://nl.wikipedia.org/wiki/Jules_Joseph_d%27Anethan\n",
            "https://nl.wikipedia.org/wiki/Charles_Michel\n",
            "https://nl.wikipedia.org/wiki/Sophie_Wilm%C3%A8s\n",
            "https://fr.wikipedia.org/wiki/Fran%C3%A7ois_Hollande\n",
            "https://fr.wikipedia.org/wiki/Nicolas_Sarkozy\n",
            "https://fr.wikipedia.org/wiki/Fran%C3%A7ois_Mitterrand\n",
            "https://fr.wikipedia.org/wiki/Charles_de_Gaulle\n",
            "https://fr.wikipedia.org/wiki/Jacques_Chirac\n",
            "https://fr.wikipedia.org/wiki/Val%C3%A9ry_Giscard_d%27Estaing\n",
            "https://fr.wikipedia.org/wiki/Georges_Pompidou\n",
            "https://fr.wikipedia.org/wiki/Adolphe_Thiers\n",
            "https://fr.wikipedia.org/wiki/Napol%C3%A9on_III\n",
            "https://fr.wikipedia.org/wiki/Paul_Doumer\n",
            "https://fr.wikipedia.org/wiki/Alain_Poher\n",
            "https://fr.wikipedia.org/wiki/Albert_Lebrun\n",
            "https://fr.wikipedia.org/wiki/Ren%C3%A9_Coty\n",
            "https://fr.wikipedia.org/wiki/Vincent_Auriol\n",
            "https://fr.wikipedia.org/wiki/Patrice_de_Mac_Mahon\n",
            "https://fr.wikipedia.org/wiki/%C3%89mile_Loubet\n",
            "https://fr.wikipedia.org/wiki/Raymond_Poincar%C3%A9\n",
            "https://fr.wikipedia.org/wiki/Sadi_Carnot_(homme_d%27%C3%89tat)\n",
            "https://fr.wikipedia.org/wiki/Alexandre_Millerand\n",
            "https://fr.wikipedia.org/wiki/Gaston_Doumergue\n",
            "https://fr.wikipedia.org/wiki/F%C3%A9lix_Faure\n",
            "https://fr.wikipedia.org/wiki/Jules_Gr%C3%A9vy\n",
            "https://fr.wikipedia.org/wiki/Armand_Falli%C3%A8res\n",
            "https://fr.wikipedia.org/wiki/Paul_Deschanel\n",
            "https://fr.wikipedia.org/wiki/Georges_Bidault\n",
            "https://fr.wikipedia.org/wiki/Jean_Casimir-Perier\n",
            "https://fr.wikipedia.org/wiki/Charles_Dupuy\n",
            "https://fr.wikipedia.org/wiki/Eug%C3%A8ne_Cavaignac\n",
            "https://fr.wikipedia.org/wiki/Louis_Jules_Trochu\n",
            "https://fr.wikipedia.org/wiki/Fr%C3%A9d%C3%A9ric_Fran%C3%A7ois-Marsal\n",
            "https://fr.wikipedia.org/wiki/Emmanuel_Macron\n",
            "https://ru.wikipedia.org/wiki/%D0%9F%D1%83%D1%82%D0%B8%D0%BD,_%D0%92%D0%BB%D0%B0%D0%B4%D0%B8%D0%BC%D0%B8%D1%80_%D0%92%D0%BB%D0%B0%D0%B4%D0%B8%D0%BC%D0%B8%D1%80%D0%BE%D0%B2%D0%B8%D1%87\n",
            "https://ru.wikipedia.org/wiki/%D0%9C%D0%B5%D0%B4%D0%B2%D0%B5%D0%B4%D0%B5%D0%B2,_%D0%94%D0%BC%D0%B8%D1%82%D1%80%D0%B8%D0%B9_%D0%90%D0%BD%D0%B0%D1%82%D0%BE%D0%BB%D1%8C%D0%B5%D0%B2%D0%B8%D1%87\n",
            "https://ru.wikipedia.org/wiki/%D0%95%D0%BB%D1%8C%D1%86%D0%B8%D0%BD,_%D0%91%D0%BE%D1%80%D0%B8%D1%81_%D0%9D%D0%B8%D0%BA%D0%BE%D0%BB%D0%B0%D0%B5%D0%B2%D0%B8%D1%87\n"
          ]
        }
      ],
      "source": [
        "# Set the leaders_url variable (1 line)\n",
        "\n",
        "# query the /leaders endpoint using cookies and parameters (take any country in countries)\n",
        "\n",
        "\n",
        "leaders = []\n",
        "for elem in countries.json():\n",
        "    cookies = requests.get(url + cookie_url)\n",
        "    leaders.append(requests.get(url + leaders_url, \n",
        "                           params= {f\"country\": {elem}},\n",
        "                           cookies= cookies.cookies).json())\n",
        "# check the result (3 lines) \n",
        "for leader in leaders:\n",
        "    for l in leader:\n",
        "        test = l['wikipedia_url']\n",
        "        print(test)"
      ]
    },
    {
      "cell_type": "markdown",
      "metadata": {
        "id": "uW3k5uquCirA"
      },
      "source": [
        "### A sneak peak at the data (finally)\n",
        "\n",
        "Look inside a few examples. Notice the dictionary keys available for each entry. You have your first example of *structured data*. This data was sanitized for your benefit, meaning it is readily exploitable without modification.\n",
        "\n",
        "You will also notice there is a Wikipedia link for each entry. You will need to extract additional information there. This will be a case of *semi-structured* data.\n",
        "\n",
        "The /countries endpoint returns a `list` of several country codes.\n",
        "\n",
        "You need to loop through this list and query the /leaders endpoint for each one. Save each entry in a dictionary called `leaders_per_country` like this one: \n",
        "`{'fr':[{leader0}, {leader1},...],\n",
        "'en':[{leader0}, {leader1},...],\n",
        "...\n",
        "}`."
      ]
    },
    {
      "cell_type": "code",
      "execution_count": null,
      "metadata": {
        "id": "H8EdK2S9rvPJ"
      },
      "outputs": [],
      "source": [
        "# 5 lines\n"
      ]
    },
    {
      "cell_type": "markdown",
      "metadata": {
        "id": "WsA2j7s_RMgy"
      },
      "source": [
        "It is finally time to create a `get_leaders()` function for the above code. You will build on it later-on. This function takes no parameter. Inside it, you will need to:\n",
        "1. define the urls\n",
        "2. get the cookies\n",
        "2. get the countries\n",
        "3. loop over them and save their leaders in a dictionary\n",
        "4. return the dictionary"
      ]
    },
    {
      "cell_type": "code",
      "execution_count": null,
      "metadata": {
        "id": "p6C7BgWQMxV2"
      },
      "outputs": [],
      "source": [
        "# 15 lines\n"
      ]
    },
    {
      "cell_type": "markdown",
      "metadata": {
        "id": "I76-InoKuuV8"
      },
      "source": [
        "Test your function, save the result in the `leaders_per_country` dictionary and check its ouput."
      ]
    },
    {
      "cell_type": "code",
      "execution_count": null,
      "metadata": {
        "id": "eXwd8o7Gu8yG"
      },
      "outputs": [],
      "source": [
        "# 2 lines\n"
      ]
    },
    {
      "cell_type": "markdown",
      "metadata": {
        "id": "D1Fc1mHySn9g"
      },
      "source": [
        "## Extracting data from Wikipedia\n",
        "\n",
        "Query one of the leaders' Wikipedia urls and display its `text` (not JSON)."
      ]
    },
    {
      "cell_type": "code",
      "execution_count": 15,
      "metadata": {
        "id": "cEKKqyTHr3fD"
      },
      "outputs": [],
      "source": [
        "# 3 lines\n",
        "import requests\n",
        "macron_url = 'https://fr.wikipedia.org/wiki/Emmanuel_Macron'\n",
        "putin_url = \"https://ru.wikipedia.org/wiki/%D0%9F%D1%83%D1%82%D0%B8%D0%BD,_%D0%92%D0%BB%D0%B0%D0%B4%D0%B8%D0%BC%D0%B8%D1%80_%D0%92%D0%BB%D0%B0%D0%B4%D0%B8%D0%BC%D0%B8%D1%80%D0%BE%D0%B2%D0%B8%D1%87\"\n",
        "req = requests.get(\"https://ru.wikipedia.org/wiki/%D0%9F%D1%83%D1%82%D0%B8%D0%BD,_%D0%92%D0%BB%D0%B0%D0%B4%D0%B8%D0%BC%D0%B8%D1%80_%D0%92%D0%BB%D0%B0%D0%B4%D0%B8%D0%BC%D0%B8%D1%80%D0%BE%D0%B2%D0%B8%D1%87\")"
      ]
    },
    {
      "cell_type": "markdown",
      "metadata": {
        "id": "ZlsqjiTYr8sK"
      },
      "source": [
        "Ouch! You get the raw HTML code of the webpage. If you try to deal with it without tools, you will be there all night. Instead, use the [beautiful soup 4](https://www.crummy.com/software/BeautifulSoup/bs4/doc/) *external* library. You will find more info about it [here](../../2.python/2.python_advanced/05.Scraping/1.beautifulsoup_basic.ipynb) and [here](../../2.python/2.python_advanced/05.Scraping/2.beautifulsoup_advanced.ipynb)\n",
        "\n",
        "Using the Quickstart section, start by importing the library and loading the output of your `get_text()` function.\n",
        "\n",
        "Use the `prettify()` function to take a look. You will start the actual parsing in the next step."
      ]
    },
    {
      "cell_type": "code",
      "execution_count": 17,
      "metadata": {
        "id": "h79ahwJvr7p-"
      },
      "outputs": [],
      "source": [
        "# 3 lines\n",
        "import bs4\n"
      ]
    },
    {
      "cell_type": "code",
      "execution_count": 18,
      "metadata": {},
      "outputs": [],
      "source": [
        "def get_first_paragraph(url):\n",
        "    req = requests.get(url)\n",
        "    soup = bs4.BeautifulSoup(req.text, \"html.parser\")\n",
        "    for paragraph in soup.find_all('p'):\n",
        "        if paragraph.find_all('b'):\n",
        "            return paragraph.text"
      ]
    },
    {
      "cell_type": "code",
      "execution_count": 19,
      "metadata": {},
      "outputs": [
        {
          "data": {
            "text/plain": [
              "\"Emmanuel Macron (/ɛmanɥɛl makʁɔ̃/[e] Écouter), né le 21 décembre 1977 à Amiens est un haut fonctionnaire et homme d'État français. Il est président de la République française depuis 2017.\\n\""
            ]
          },
          "execution_count": 19,
          "metadata": {},
          "output_type": "execute_result"
        }
      ],
      "source": [
        "get_first_paragraph(url=macron_url)"
      ]
    },
    {
      "cell_type": "markdown",
      "metadata": {
        "id": "aQsLjaig7_dY"
      },
      "source": [
        "That looks better but you need to extract the right part of the webpage: the text of the first paragraph.\n",
        "\n",
        "It is a bit tricky because Wikipedia pages slightly differ in structure from one language to the next. We cannot simply get the text for the first HTML paragraph.\n",
        "\n",
        "You will start by getting all the HTML paragraphs from the HTML source and saving them in the `paragraphs` variable.\n",
        "\n",
        "Use the documentation or google the appropriate keywords."
      ]
    },
    {
      "cell_type": "code",
      "execution_count": null,
      "metadata": {
        "id": "Vs8HeBx19oyC"
      },
      "outputs": [],
      "source": [
        "# 2 lines\n"
      ]
    },
    {
      "cell_type": "markdown",
      "metadata": {
        "id": "3tlaL3aM9zoo"
      },
      "source": [
        "If you try different urls, you might find that the paragraph you want may be at a different index each time.\n",
        "\n",
        "That is where you need to be clever and ask yourself what would be a reliable way to identify the right index ie. which string matches only the first paragraph whatever the language...\n",
        "\n",
        "Spend a good 30 minutes on the problem and brainstorm with your fellow learners. If you come out empty handed, ask your coach.\n",
        "\n",
        "1. Loop over the HTML paragraphs\n",
        "2. When you have identified the correct one\n",
        "  * store the [text](https://www.crummy.com/software/BeautifulSoup/bs4/doc/#output) inside the `first_paragraph` variable\n",
        "  * exit the loop"
      ]
    },
    {
      "cell_type": "code",
      "execution_count": null,
      "metadata": {
        "id": "0DduDXaQALau"
      },
      "outputs": [],
      "source": []
    },
    {
      "cell_type": "markdown",
      "metadata": {
        "id": "KFe-1LlIHBGm"
      },
      "source": [
        "At this stage, you can create a function to maintain consistency in your code. We will give you its *skeleton*, you will copy the code you wrote and make it work inside a function.\n",
        "\n",
        "Don't forget to test your function."
      ]
    },
    {
      "cell_type": "code",
      "execution_count": 20,
      "metadata": {
        "id": "wQORoweDHARO"
      },
      "outputs": [
        {
          "name": "stdout",
          "output_type": "stream",
          "text": [
            "Getting the first paragraph of : https://ru.wikipedia.org/wiki/%D0%9F%D1%83%D1%82%D0%B8%D0%BD,_%D0%92%D0%BB%D0%B0%D0%B4%D0%B8%D0%BC%D0%B8%D1%80_%D0%92%D0%BB%D0%B0%D0%B4%D0%B8%D0%BC%D0%B8%D1%80%D0%BE%D0%B2%D0%B8%D1%87\n",
            "Getting the first paragraph of : https://fr.wikipedia.org/wiki/Emmanuel_Macron\n",
            "Влади́мир Влади́мирович Пу́тин (род. 7 октября 1952, Ленинград, СССР) — российский государственный и политический деятель. Действующий президент Российской Федерации, председатель Государственного Совета Российской Федерации и верховный главнокомандующий Вооружёнными силами Российской Федерации с 7 мая 2012 года. Ранее занимал должность президента с 7 мая 2000 года по 7 мая 2008 года, также в 1999—2000 и 2008—2012 годах занимал должность председателя правительства Российской Федерации. Кандидат экономических наук (1997).\n",
            "\n",
            "\n",
            "\n",
            "Emmanuel Macron (/ɛmanɥɛl makʁɔ̃/[e] Écouter), né le 21 décembre 1977 à Amiens est un haut fonctionnaire et homme d'État français. Il est président de la République française depuis 2017.\n",
            "\n"
          ]
        }
      ],
      "source": [
        "# 10 lines\n",
        "# def get_first_paragraph(wikipedia_url):\n",
        "#   print(wikipedia_url) # keep this for the rest of the notebook\n",
        "#   [insert your code]\n",
        "#   return first_paragraph\n",
        "def get_first_paragraph(url):\n",
        "    print(f\"Getting the first paragraph of : {url}\")\n",
        "    req = requests.get(url)\n",
        "    soup = bs4.BeautifulSoup(req.text, \"html.parser\")\n",
        "    for paragraph in soup.find_all('p'):\n",
        "        if paragraph.find_all('b'):\n",
        "            return paragraph.text\n",
        "\n",
        "putin_leader = get_first_paragraph(putin_url)\n",
        "macron_leader = get_first_paragraph(macron_url)\n",
        "print(putin_leader)\n",
        "print(\"\\n\")\n",
        "print(macron_leader)\n",
        "# 6 lines\n"
      ]
    },
    {
      "cell_type": "markdown",
      "metadata": {
        "id": "UtoM4dgsBVoD"
      },
      "source": [
        "### Regular expressions to the rescue\n",
        "\n",
        "Now that you have extracted the content of the first paragraph, the only thing that remains to finish your Wikipedia scraper is to sanitize the output.\n",
        "\n",
        "Indeed some Wikipedia references, HTML code, phonetic pronunciation etc. may linger. You might find *regular expressions* handy to get rid of them and obtain pristine text. You will find some useful documentation about regular expressions [here](../../2.python/2.python_advanced/03.Regex/regex.ipynb)\n",
        "\n",
        "Once you have one of your regex working online, try it in the cell below. \n",
        "\n",
        "Hints: \n",
        "* Check the `sub()` method documentation.\n",
        "* Make sure to test urls in different languages. Some may look good but other do not."
      ]
    },
    {
      "cell_type": "code",
      "execution_count": 21,
      "metadata": {
        "id": "7DHEAb6oBUxd"
      },
      "outputs": [
        {
          "ename": "error",
          "evalue": "unknown extension ?Ph at position 1",
          "output_type": "error",
          "traceback": [
            "\u001b[0;31m---------------------------------------------------------------------------\u001b[0m",
            "\u001b[0;31merror\u001b[0m                                     Traceback (most recent call last)",
            "Cell \u001b[0;32mIn[21], line 6\u001b[0m\n\u001b[1;32m      4\u001b[0m \u001b[39mimport\u001b[39;00m \u001b[39mre\u001b[39;00m\n\u001b[1;32m      5\u001b[0m macron_leader \u001b[39m=\u001b[39m re\u001b[39m.\u001b[39msub(\u001b[39m\"\u001b[39m\u001b[39m \u001b[39m\u001b[39m\\\u001b[39m\u001b[39m([^()]+\u001b[39m\u001b[39m\\\u001b[39m\u001b[39m)\u001b[39m\u001b[39m\"\u001b[39m, \u001b[39m'\u001b[39m\u001b[39m'\u001b[39m,macron_leader)\n\u001b[0;32m----> 6\u001b[0m macron_leader \u001b[39m=\u001b[39m re\u001b[39m.\u001b[39;49msub(\u001b[39m\"\u001b[39;49m\u001b[39m(?Phttps?://[^\u001b[39;49m\u001b[39m\\\u001b[39;49m\u001b[39ms]+)\u001b[39;49m\u001b[39m\"\u001b[39;49m, \u001b[39m'\u001b[39;49m\u001b[39m'\u001b[39;49m, macron_leader)\n\u001b[1;32m      7\u001b[0m \u001b[39mprint\u001b[39m(macron_leader)\n",
            "File \u001b[0;32m~/miniconda3/lib/python3.9/re.py:210\u001b[0m, in \u001b[0;36msub\u001b[0;34m(pattern, repl, string, count, flags)\u001b[0m\n\u001b[1;32m    203\u001b[0m \u001b[39mdef\u001b[39;00m \u001b[39msub\u001b[39m(pattern, repl, string, count\u001b[39m=\u001b[39m\u001b[39m0\u001b[39m, flags\u001b[39m=\u001b[39m\u001b[39m0\u001b[39m):\n\u001b[1;32m    204\u001b[0m     \u001b[39m\"\"\"Return the string obtained by replacing the leftmost\u001b[39;00m\n\u001b[1;32m    205\u001b[0m \u001b[39m    non-overlapping occurrences of the pattern in string by the\u001b[39;00m\n\u001b[1;32m    206\u001b[0m \u001b[39m    replacement repl.  repl can be either a string or a callable;\u001b[39;00m\n\u001b[1;32m    207\u001b[0m \u001b[39m    if a string, backslash escapes in it are processed.  If it is\u001b[39;00m\n\u001b[1;32m    208\u001b[0m \u001b[39m    a callable, it's passed the Match object and must return\u001b[39;00m\n\u001b[1;32m    209\u001b[0m \u001b[39m    a replacement string to be used.\"\"\"\u001b[39;00m\n\u001b[0;32m--> 210\u001b[0m     \u001b[39mreturn\u001b[39;00m _compile(pattern, flags)\u001b[39m.\u001b[39msub(repl, string, count)\n",
            "File \u001b[0;32m~/miniconda3/lib/python3.9/re.py:304\u001b[0m, in \u001b[0;36m_compile\u001b[0;34m(pattern, flags)\u001b[0m\n\u001b[1;32m    302\u001b[0m \u001b[39mif\u001b[39;00m \u001b[39mnot\u001b[39;00m sre_compile\u001b[39m.\u001b[39misstring(pattern):\n\u001b[1;32m    303\u001b[0m     \u001b[39mraise\u001b[39;00m \u001b[39mTypeError\u001b[39;00m(\u001b[39m\"\u001b[39m\u001b[39mfirst argument must be string or compiled pattern\u001b[39m\u001b[39m\"\u001b[39m)\n\u001b[0;32m--> 304\u001b[0m p \u001b[39m=\u001b[39m sre_compile\u001b[39m.\u001b[39;49mcompile(pattern, flags)\n\u001b[1;32m    305\u001b[0m \u001b[39mif\u001b[39;00m \u001b[39mnot\u001b[39;00m (flags \u001b[39m&\u001b[39m DEBUG):\n\u001b[1;32m    306\u001b[0m     \u001b[39mif\u001b[39;00m \u001b[39mlen\u001b[39m(_cache) \u001b[39m>\u001b[39m\u001b[39m=\u001b[39m _MAXCACHE:\n\u001b[1;32m    307\u001b[0m         \u001b[39m# Drop the oldest item\u001b[39;00m\n",
            "File \u001b[0;32m~/miniconda3/lib/python3.9/sre_compile.py:764\u001b[0m, in \u001b[0;36mcompile\u001b[0;34m(p, flags)\u001b[0m\n\u001b[1;32m    762\u001b[0m \u001b[39mif\u001b[39;00m isstring(p):\n\u001b[1;32m    763\u001b[0m     pattern \u001b[39m=\u001b[39m p\n\u001b[0;32m--> 764\u001b[0m     p \u001b[39m=\u001b[39m sre_parse\u001b[39m.\u001b[39;49mparse(p, flags)\n\u001b[1;32m    765\u001b[0m \u001b[39melse\u001b[39;00m:\n\u001b[1;32m    766\u001b[0m     pattern \u001b[39m=\u001b[39m \u001b[39mNone\u001b[39;00m\n",
            "File \u001b[0;32m~/miniconda3/lib/python3.9/sre_parse.py:948\u001b[0m, in \u001b[0;36mparse\u001b[0;34m(str, flags, state)\u001b[0m\n\u001b[1;32m    945\u001b[0m state\u001b[39m.\u001b[39mstr \u001b[39m=\u001b[39m \u001b[39mstr\u001b[39m\n\u001b[1;32m    947\u001b[0m \u001b[39mtry\u001b[39;00m:\n\u001b[0;32m--> 948\u001b[0m     p \u001b[39m=\u001b[39m _parse_sub(source, state, flags \u001b[39m&\u001b[39;49m SRE_FLAG_VERBOSE, \u001b[39m0\u001b[39;49m)\n\u001b[1;32m    949\u001b[0m \u001b[39mexcept\u001b[39;00m Verbose:\n\u001b[1;32m    950\u001b[0m     \u001b[39m# the VERBOSE flag was switched on inside the pattern.  to be\u001b[39;00m\n\u001b[1;32m    951\u001b[0m     \u001b[39m# on the safe side, we'll parse the whole thing again...\u001b[39;00m\n\u001b[1;32m    952\u001b[0m     state \u001b[39m=\u001b[39m State()\n",
            "File \u001b[0;32m~/miniconda3/lib/python3.9/sre_parse.py:443\u001b[0m, in \u001b[0;36m_parse_sub\u001b[0;34m(source, state, verbose, nested)\u001b[0m\n\u001b[1;32m    441\u001b[0m start \u001b[39m=\u001b[39m source\u001b[39m.\u001b[39mtell()\n\u001b[1;32m    442\u001b[0m \u001b[39mwhile\u001b[39;00m \u001b[39mTrue\u001b[39;00m:\n\u001b[0;32m--> 443\u001b[0m     itemsappend(_parse(source, state, verbose, nested \u001b[39m+\u001b[39;49m \u001b[39m1\u001b[39;49m,\n\u001b[1;32m    444\u001b[0m                        \u001b[39mnot\u001b[39;49;00m nested \u001b[39mand\u001b[39;49;00m \u001b[39mnot\u001b[39;49;00m items))\n\u001b[1;32m    445\u001b[0m     \u001b[39mif\u001b[39;00m \u001b[39mnot\u001b[39;00m sourcematch(\u001b[39m\"\u001b[39m\u001b[39m|\u001b[39m\u001b[39m\"\u001b[39m):\n\u001b[1;32m    446\u001b[0m         \u001b[39mbreak\u001b[39;00m\n",
            "File \u001b[0;32m~/miniconda3/lib/python3.9/sre_parse.py:725\u001b[0m, in \u001b[0;36m_parse\u001b[0;34m(source, state, verbose, nested, first)\u001b[0m\n\u001b[1;32m    723\u001b[0m         \u001b[39mif\u001b[39;00m char \u001b[39mis\u001b[39;00m \u001b[39mNone\u001b[39;00m:\n\u001b[1;32m    724\u001b[0m             \u001b[39mraise\u001b[39;00m source\u001b[39m.\u001b[39merror(\u001b[39m\"\u001b[39m\u001b[39munexpected end of pattern\u001b[39m\u001b[39m\"\u001b[39m)\n\u001b[0;32m--> 725\u001b[0m         \u001b[39mraise\u001b[39;00m source\u001b[39m.\u001b[39merror(\u001b[39m\"\u001b[39m\u001b[39munknown extension ?P\u001b[39m\u001b[39m\"\u001b[39m \u001b[39m+\u001b[39m char,\n\u001b[1;32m    726\u001b[0m                            \u001b[39mlen\u001b[39m(char) \u001b[39m+\u001b[39m \u001b[39m2\u001b[39m)\n\u001b[1;32m    727\u001b[0m \u001b[39melif\u001b[39;00m char \u001b[39m==\u001b[39m \u001b[39m\"\u001b[39m\u001b[39m:\u001b[39m\u001b[39m\"\u001b[39m:\n\u001b[1;32m    728\u001b[0m     \u001b[39m# non-capturing group\u001b[39;00m\n\u001b[1;32m    729\u001b[0m     group \u001b[39m=\u001b[39m \u001b[39mNone\u001b[39;00m\n",
            "\u001b[0;31merror\u001b[0m: unknown extension ?Ph at position 1"
          ]
        }
      ],
      "source": [
        "# 4 lines\n",
        "\n",
        "\n",
        "import re\n",
        "macron_leader = re.sub(\" \\([^()]+\\)\", '',macron_leader)\n",
        "macron_leader = re.sub(\"(?Phttps?://[^\\s]+)\", '', macron_leader)\n",
        "print(macron_leader)\n",
        "\n"
      ]
    },
    {
      "cell_type": "markdown",
      "metadata": {
        "id": "QekqWs-4E0bK"
      },
      "source": [
        "Overwrite the `get_first_paragraph()` function by applying your regex to the first paragraph before returning it."
      ]
    },
    {
      "cell_type": "code",
      "execution_count": 22,
      "metadata": {
        "id": "voT-jzd7FMOc"
      },
      "outputs": [
        {
          "name": "stdout",
          "output_type": "stream",
          "text": [
            "Getting the first paragraph of : https://ru.wikipedia.org/wiki/%D0%9F%D1%83%D1%82%D0%B8%D0%BD,_%D0%92%D0%BB%D0%B0%D0%B4%D0%B8%D0%BC%D0%B8%D1%80_%D0%92%D0%BB%D0%B0%D0%B4%D0%B8%D0%BC%D0%B8%D1%80%D0%BE%D0%B2%D0%B8%D1%87\n"
          ]
        },
        {
          "ename": "error",
          "evalue": "unknown extension ?Ph at position 1",
          "output_type": "error",
          "traceback": [
            "\u001b[0;31m---------------------------------------------------------------------------\u001b[0m",
            "\u001b[0;31merror\u001b[0m                                     Traceback (most recent call last)",
            "Cell \u001b[0;32mIn[22], line 12\u001b[0m\n\u001b[1;32m      9\u001b[0m             first_paragraph \u001b[39m=\u001b[39m re\u001b[39m.\u001b[39msub(\u001b[39m\"\u001b[39m\u001b[39m(?Phttps?://[^\u001b[39m\u001b[39m\\\u001b[39m\u001b[39ms]+)\u001b[39m\u001b[39m\"\u001b[39m, \u001b[39m'\u001b[39m\u001b[39m'\u001b[39m, first_paragraph)\n\u001b[1;32m     10\u001b[0m             \u001b[39mreturn\u001b[39;00m first_paragraph\n\u001b[0;32m---> 12\u001b[0m putin_leader \u001b[39m=\u001b[39m get_first_paragraph(putin_url)\n\u001b[1;32m     13\u001b[0m macron_leader \u001b[39m=\u001b[39m get_first_paragraph(macron_url)\n\u001b[1;32m     14\u001b[0m \u001b[39mprint\u001b[39m(putin_leader)\n",
            "Cell \u001b[0;32mIn[22], line 9\u001b[0m, in \u001b[0;36mget_first_paragraph\u001b[0;34m(url)\u001b[0m\n\u001b[1;32m      7\u001b[0m \u001b[39mif\u001b[39;00m paragraph\u001b[39m.\u001b[39mfind_all(\u001b[39m'\u001b[39m\u001b[39mb\u001b[39m\u001b[39m'\u001b[39m):\n\u001b[1;32m      8\u001b[0m     first_paragraph \u001b[39m=\u001b[39m re\u001b[39m.\u001b[39msub(\u001b[39m\"\u001b[39m\u001b[39m \u001b[39m\u001b[39m\\\u001b[39m\u001b[39m([^()]+\u001b[39m\u001b[39m\\\u001b[39m\u001b[39m)\u001b[39m\u001b[39m\"\u001b[39m, \u001b[39m'\u001b[39m\u001b[39m'\u001b[39m, paragraph\u001b[39m.\u001b[39mtext)\n\u001b[0;32m----> 9\u001b[0m     first_paragraph \u001b[39m=\u001b[39m re\u001b[39m.\u001b[39;49msub(\u001b[39m\"\u001b[39;49m\u001b[39m(?Phttps?://[^\u001b[39;49m\u001b[39m\\\u001b[39;49m\u001b[39ms]+)\u001b[39;49m\u001b[39m\"\u001b[39;49m, \u001b[39m'\u001b[39;49m\u001b[39m'\u001b[39;49m, first_paragraph)\n\u001b[1;32m     10\u001b[0m     \u001b[39mreturn\u001b[39;00m first_paragraph\n",
            "File \u001b[0;32m~/miniconda3/lib/python3.9/re.py:210\u001b[0m, in \u001b[0;36msub\u001b[0;34m(pattern, repl, string, count, flags)\u001b[0m\n\u001b[1;32m    203\u001b[0m \u001b[39mdef\u001b[39;00m \u001b[39msub\u001b[39m(pattern, repl, string, count\u001b[39m=\u001b[39m\u001b[39m0\u001b[39m, flags\u001b[39m=\u001b[39m\u001b[39m0\u001b[39m):\n\u001b[1;32m    204\u001b[0m     \u001b[39m\"\"\"Return the string obtained by replacing the leftmost\u001b[39;00m\n\u001b[1;32m    205\u001b[0m \u001b[39m    non-overlapping occurrences of the pattern in string by the\u001b[39;00m\n\u001b[1;32m    206\u001b[0m \u001b[39m    replacement repl.  repl can be either a string or a callable;\u001b[39;00m\n\u001b[1;32m    207\u001b[0m \u001b[39m    if a string, backslash escapes in it are processed.  If it is\u001b[39;00m\n\u001b[1;32m    208\u001b[0m \u001b[39m    a callable, it's passed the Match object and must return\u001b[39;00m\n\u001b[1;32m    209\u001b[0m \u001b[39m    a replacement string to be used.\"\"\"\u001b[39;00m\n\u001b[0;32m--> 210\u001b[0m     \u001b[39mreturn\u001b[39;00m _compile(pattern, flags)\u001b[39m.\u001b[39msub(repl, string, count)\n",
            "File \u001b[0;32m~/miniconda3/lib/python3.9/re.py:304\u001b[0m, in \u001b[0;36m_compile\u001b[0;34m(pattern, flags)\u001b[0m\n\u001b[1;32m    302\u001b[0m \u001b[39mif\u001b[39;00m \u001b[39mnot\u001b[39;00m sre_compile\u001b[39m.\u001b[39misstring(pattern):\n\u001b[1;32m    303\u001b[0m     \u001b[39mraise\u001b[39;00m \u001b[39mTypeError\u001b[39;00m(\u001b[39m\"\u001b[39m\u001b[39mfirst argument must be string or compiled pattern\u001b[39m\u001b[39m\"\u001b[39m)\n\u001b[0;32m--> 304\u001b[0m p \u001b[39m=\u001b[39m sre_compile\u001b[39m.\u001b[39;49mcompile(pattern, flags)\n\u001b[1;32m    305\u001b[0m \u001b[39mif\u001b[39;00m \u001b[39mnot\u001b[39;00m (flags \u001b[39m&\u001b[39m DEBUG):\n\u001b[1;32m    306\u001b[0m     \u001b[39mif\u001b[39;00m \u001b[39mlen\u001b[39m(_cache) \u001b[39m>\u001b[39m\u001b[39m=\u001b[39m _MAXCACHE:\n\u001b[1;32m    307\u001b[0m         \u001b[39m# Drop the oldest item\u001b[39;00m\n",
            "File \u001b[0;32m~/miniconda3/lib/python3.9/sre_compile.py:764\u001b[0m, in \u001b[0;36mcompile\u001b[0;34m(p, flags)\u001b[0m\n\u001b[1;32m    762\u001b[0m \u001b[39mif\u001b[39;00m isstring(p):\n\u001b[1;32m    763\u001b[0m     pattern \u001b[39m=\u001b[39m p\n\u001b[0;32m--> 764\u001b[0m     p \u001b[39m=\u001b[39m sre_parse\u001b[39m.\u001b[39;49mparse(p, flags)\n\u001b[1;32m    765\u001b[0m \u001b[39melse\u001b[39;00m:\n\u001b[1;32m    766\u001b[0m     pattern \u001b[39m=\u001b[39m \u001b[39mNone\u001b[39;00m\n",
            "File \u001b[0;32m~/miniconda3/lib/python3.9/sre_parse.py:948\u001b[0m, in \u001b[0;36mparse\u001b[0;34m(str, flags, state)\u001b[0m\n\u001b[1;32m    945\u001b[0m state\u001b[39m.\u001b[39mstr \u001b[39m=\u001b[39m \u001b[39mstr\u001b[39m\n\u001b[1;32m    947\u001b[0m \u001b[39mtry\u001b[39;00m:\n\u001b[0;32m--> 948\u001b[0m     p \u001b[39m=\u001b[39m _parse_sub(source, state, flags \u001b[39m&\u001b[39;49m SRE_FLAG_VERBOSE, \u001b[39m0\u001b[39;49m)\n\u001b[1;32m    949\u001b[0m \u001b[39mexcept\u001b[39;00m Verbose:\n\u001b[1;32m    950\u001b[0m     \u001b[39m# the VERBOSE flag was switched on inside the pattern.  to be\u001b[39;00m\n\u001b[1;32m    951\u001b[0m     \u001b[39m# on the safe side, we'll parse the whole thing again...\u001b[39;00m\n\u001b[1;32m    952\u001b[0m     state \u001b[39m=\u001b[39m State()\n",
            "File \u001b[0;32m~/miniconda3/lib/python3.9/sre_parse.py:443\u001b[0m, in \u001b[0;36m_parse_sub\u001b[0;34m(source, state, verbose, nested)\u001b[0m\n\u001b[1;32m    441\u001b[0m start \u001b[39m=\u001b[39m source\u001b[39m.\u001b[39mtell()\n\u001b[1;32m    442\u001b[0m \u001b[39mwhile\u001b[39;00m \u001b[39mTrue\u001b[39;00m:\n\u001b[0;32m--> 443\u001b[0m     itemsappend(_parse(source, state, verbose, nested \u001b[39m+\u001b[39;49m \u001b[39m1\u001b[39;49m,\n\u001b[1;32m    444\u001b[0m                        \u001b[39mnot\u001b[39;49;00m nested \u001b[39mand\u001b[39;49;00m \u001b[39mnot\u001b[39;49;00m items))\n\u001b[1;32m    445\u001b[0m     \u001b[39mif\u001b[39;00m \u001b[39mnot\u001b[39;00m sourcematch(\u001b[39m\"\u001b[39m\u001b[39m|\u001b[39m\u001b[39m\"\u001b[39m):\n\u001b[1;32m    446\u001b[0m         \u001b[39mbreak\u001b[39;00m\n",
            "File \u001b[0;32m~/miniconda3/lib/python3.9/sre_parse.py:725\u001b[0m, in \u001b[0;36m_parse\u001b[0;34m(source, state, verbose, nested, first)\u001b[0m\n\u001b[1;32m    723\u001b[0m         \u001b[39mif\u001b[39;00m char \u001b[39mis\u001b[39;00m \u001b[39mNone\u001b[39;00m:\n\u001b[1;32m    724\u001b[0m             \u001b[39mraise\u001b[39;00m source\u001b[39m.\u001b[39merror(\u001b[39m\"\u001b[39m\u001b[39munexpected end of pattern\u001b[39m\u001b[39m\"\u001b[39m)\n\u001b[0;32m--> 725\u001b[0m         \u001b[39mraise\u001b[39;00m source\u001b[39m.\u001b[39merror(\u001b[39m\"\u001b[39m\u001b[39munknown extension ?P\u001b[39m\u001b[39m\"\u001b[39m \u001b[39m+\u001b[39m char,\n\u001b[1;32m    726\u001b[0m                            \u001b[39mlen\u001b[39m(char) \u001b[39m+\u001b[39m \u001b[39m2\u001b[39m)\n\u001b[1;32m    727\u001b[0m \u001b[39melif\u001b[39;00m char \u001b[39m==\u001b[39m \u001b[39m\"\u001b[39m\u001b[39m:\u001b[39m\u001b[39m\"\u001b[39m:\n\u001b[1;32m    728\u001b[0m     \u001b[39m# non-capturing group\u001b[39;00m\n\u001b[1;32m    729\u001b[0m     group \u001b[39m=\u001b[39m \u001b[39mNone\u001b[39;00m\n",
            "\u001b[0;31merror\u001b[0m: unknown extension ?Ph at position 1"
          ]
        }
      ],
      "source": [
        "# 10 lines\n",
        "def get_first_paragraph(url):\n",
        "    print(f\"Getting the first paragraph of : {url}\")\n",
        "    req = requests.get(url)\n",
        "    soup = bs4.BeautifulSoup(req.text, \"html.parser\")\n",
        "    for paragraph in soup.find_all('p'):\n",
        "        if paragraph.find_all('b'):\n",
        "            first_paragraph = re.sub(\" \\([^()]+\\)\", '', paragraph.text)\n",
        "            first_paragraph = re.sub(\"(?Phttps?://[^\\s]+)\", '', first_paragraph)\n",
        "            return first_paragraph\n",
        "\n",
        "putin_leader = get_first_paragraph(putin_url)\n",
        "macron_leader = get_first_paragraph(macron_url)\n",
        "print(putin_leader)\n",
        "print(\"\\n\")\n",
        "print(macron_leader)"
      ]
    },
    {
      "cell_type": "markdown",
      "metadata": {
        "id": "gyZkffTEFR0z"
      },
      "source": [
        "Come up with other regexes to capture other patterns and sanitize the outputs completely. Modify your `get_first_paragraph()` function accordingly."
      ]
    },
    {
      "cell_type": "code",
      "execution_count": null,
      "metadata": {
        "id": "NOmkLM9JFRCp"
      },
      "outputs": [],
      "source": [
        "# < 20 lines\n"
      ]
    },
    {
      "cell_type": "markdown",
      "metadata": {
        "id": "L9XUdX38V9XT"
      },
      "source": [
        "### Caching\n",
        "Good job! This function will be called many times. First because there are many leaders to loop through. Second because you are developing your code and are likely to re-run your loop multiple times. Third because the API might change and contain new leaders and you might want to update your data periodically.\n",
        "\n",
        "For all these reasons, it can be benificial to *cache* the result of the `get_first_paragraph()` function so that if it called with the same parameter, you expect the same output and thus do not need to query Wikipedia another time.\n",
        "\n",
        "You will use the [lru_cache](https://docs.python.org/3/library/functools.html#functools.lru_cache) decorator from the `functools` module. It is a tiny code change that will speed things up big time. You can use a `maxsize` of None. If you have questions about decorators, you will find more information [here](../../2.python/2.python_advanced/07.Decorator/decorators.ipynb)"
      ]
    },
    {
      "cell_type": "code",
      "execution_count": null,
      "metadata": {
        "id": "qZfm-vFDXqi0"
      },
      "outputs": [],
      "source": [
        "# < 20 lines\n",
        "from functools import lru_cache\n",
        "\n",
        "@lru_cache(maxsize = None)\n",
        "def get_first_paragraph(url):\n",
        "    print(f\"Getting the first paragraph of : {url}\")\n",
        "    req = requests.get(url)\n",
        "    soup = bs4.BeautifulSoup(req.text, \"html.parser\")\n",
        "    for paragraph in soup.find_all('p'):\n",
        "        if paragraph.find_all('b'):\n",
        "            first_paragraph = re.sub(\" \\([^()]+\\)\", '', paragraph.text)\n",
        "            first_paragraph = re.sub(\"(?Phttps?://[^\\s]+)\", '', first_paragraph)\n",
        "            return first_paragraph"
      ]
    },
    {
      "cell_type": "markdown",
      "metadata": {
        "id": "3DlE7uy2YvWN"
      },
      "source": [
        "Let's check the speedup!"
      ]
    },
    {
      "cell_type": "code",
      "execution_count": null,
      "metadata": {
        "id": "U46cCemPYhiG"
      },
      "outputs": [],
      "source": [
        "# Just run the cell. \n",
        "%%timeit\n",
        "get_first_paragraph(wikipedia_url)"
      ]
    },
    {
      "cell_type": "markdown",
      "metadata": {
        "id": "VY7bM7Z1Nr0K"
      },
      "source": [
        "## Putting it all together\n",
        "\n",
        "Let's go back to your `get_leaders()` function and update it with an *inner* loop over each leader. You will query the url provided and extract the first paragraph using the `get_first_paragraph()` function you just finished. You will then update that `leader`'s dictionary and move on to the next one.\n",
        "\n",
        "Notice, the rest of the code should not change since you modify the leader's data one by one."
      ]
    },
    {
      "cell_type": "code",
      "execution_count": null,
      "metadata": {
        "id": "Dx7kAGa6OoS5"
      },
      "outputs": [],
      "source": [
        "# 19 lines\n",
        "@lru_cache(maxsize = None)\n",
        "def get_first_paragraph(url):\n",
        "    \"\"\"Get the first paragraph of the wikipedia link given to it\"\"\"\n",
        "    try:\n",
        "        req = requests.get(url)\n",
        "        if req.status_code != 200:\n",
        "            raise Exception(f\"Error : Unable to access {url}\")\n",
        "    except Exception as e:\n",
        "        print(e)\n",
        "        return None\n",
        "    \n",
        "    soup = bs4.BeautifulSoup(req.text, \"html.parser\")\n",
        "    for paragraph in soup.find_all('p'):\n",
        "        if paragraph.find_all('b'):\n",
        "            #removing parenthese and what is between them\n",
        "            first_paragraph = re.sub(\" \\([^()]+\\)\", '', paragraph.text)\n",
        "            #removing url link\n",
        "            first_paragraph = re.sub(\"(?Phttps?://[^\\s]+)\", '', first_paragraph)\n",
        "            return first_paragraph\n",
        "        else:\n",
        "            return None\n",
        "\n",
        "def get_leaders():\n",
        "    \"\"\"Get all the leaders of the five contries given by the API\"\"\"\n",
        "    with Session() as session:\n",
        "    url = \"https://country-leaders.onrender.com/\"\n",
        "    country_url = \"countries\"\n",
        "    cookie_url = \"cookie\"\n",
        "    leaders_url = \"leaders\"\n",
        "    leaders = []\n",
        "    firsts_pragraphe = []\n",
        "\n",
        "  try:\n",
        "        cookie = requests.get(url + cookie_url)\n",
        "        countries = requests.get(url + country_url, \n",
        "                             cookies= cookie.cookies)\n",
        "        if countries.status_code != 200:\n",
        "            raise Exception(\"Error : Unable to get the countries name !\")\n",
        "    except Exception as e:\n",
        "        print(e)\n",
        "        return None\n",
        "    countries = countries.json()\n",
        "    \n",
        "    for country in countries:\n",
        "        try:\n",
        "            cookie = requests.get(url + cookie_url)\n",
        "            leader = requests.get(url + leaders_url,\n",
        "                                    params= {f\"country\": {country}},\n",
        "                                    cookies= cookie.cookies)\n",
        "            if leader.status_code != 200:\n",
        "                raise Exception(f\"Error : Unable to get the leader of {country}\")\n",
        "            else:\n",
        "                for l in leader.json():\n",
        "                   firsts_pragraphe.append(get_first_paragraph(l['wikipedia_url']))\n",
        "        except Exception as e:\n",
        "            print(e)\n",
        "            leader = None\n",
        "        leaders.append(leader)\n",
        "        \n",
        "    leaders_per_country = {countries[0]: leaders[0],\n",
        "                           countries[1]: leaders[1],\n",
        "                           countries[2]: leaders[2],\n",
        "                           countries[3]: leaders[3],\n",
        "                           countries[4]: leaders[4]}\n",
        "    for paragraphe in firsts_pragraphe:\n",
        "        print(paragraphe)\n",
        "    return leaders_per_country\n",
        "\n",
        "leaders_per_coutry = get_leaders()"
      ]
    },
    {
      "cell_type": "code",
      "execution_count": null,
      "metadata": {
        "id": "RICG4T3DPZ1b"
      },
      "outputs": [],
      "source": [
        "# Check the output of your function (2 lines)\n"
      ]
    },
    {
      "cell_type": "markdown",
      "metadata": {
        "id": "8sCKxGrnJCxv"
      },
      "source": [
        "Does the function crash in the middle of the loop? Chances are the cookies have expired while looping over the leaders.\n",
        "\n",
        "Modify your function to check if the `status_code` is a cookie error. In which case, get new ones and query the api again.\n",
        "\n",
        "If not, you may have a fast connection or a bit of luck. Do it anyway."
      ]
    },
    {
      "cell_type": "code",
      "execution_count": null,
      "metadata": {
        "id": "rgPd2dxgJiW1"
      },
      "outputs": [],
      "source": [
        "# 22 lines\n"
      ]
    },
    {
      "cell_type": "markdown",
      "metadata": {
        "id": "3JvV-kPsKLl0"
      },
      "source": [
        "Check the output of your function again."
      ]
    },
    {
      "cell_type": "code",
      "execution_count": null,
      "metadata": {
        "id": "mPXT-cxgKQof"
      },
      "outputs": [],
      "source": [
        "%%timeit\n",
        "# Check the output of your function (1 line)\n"
      ]
    },
    {
      "cell_type": "markdown",
      "metadata": {
        "id": "Y9lgxh_NMSO3"
      },
      "source": [
        "Well done! It took a while however... Let's speed things up. The main *bottleneck* is the loop. We call on the Wikipedia website many times.\n",
        "\n",
        "You will use the same *session* to call all the wikipedia pages. Check the *Advanced Usage* section of the Requests module's documentation.\n",
        "\n",
        "Start by modifying the `get_first_paragraph()` function to accept a session parameter and adjust the `get()` method call."
      ]
    },
    {
      "cell_type": "code",
      "execution_count": null,
      "metadata": {
        "id": "XTEVLIJ-V7z1"
      },
      "outputs": [],
      "source": [
        "# <20 lines"
      ]
    },
    {
      "cell_type": "markdown",
      "metadata": {
        "id": "3gcgHMkeWK5-"
      },
      "source": [
        "Modify your `get_leaders()` function to make use of a single session for all the Wikipedia calls.\n",
        "1. create a `Session` object outside of the loop over countries.\n",
        "2. pass it to the `get_first_paragraph()` function as an argument."
      ]
    },
    {
      "cell_type": "code",
      "execution_count": null,
      "metadata": {
        "id": "Kt6JtKDpOAIe"
      },
      "outputs": [],
      "source": [
        "# 22 lines\n"
      ]
    },
    {
      "cell_type": "markdown",
      "metadata": {
        "id": "fy09nMG9VOaI"
      },
      "source": [
        "Test your new functions.\n",
        "\n"
      ]
    },
    {
      "cell_type": "code",
      "execution_count": null,
      "metadata": {
        "id": "p5wFE6ivRf-Z"
      },
      "outputs": [],
      "source": [
        "# Just run it.\n",
        "%%timeit\n",
        "leaders_per_country = get_leaders()"
      ]
    },
    {
      "cell_type": "markdown",
      "metadata": {
        "id": "QVA5raJxVEtr"
      },
      "source": [
        "Using a Session makes the first call to `get_leaders()` faster however, for technical reasons, the `@lru_cache` decorator no longer works. \n",
        "\n",
        "Problem: The `session` parameter is not *hashable* and since the cache is a dictionary using all the parameters as key, this poses a problem.\n",
        "\n",
        "Solution: Create our own cache that only cares about the url.\n",
        "\n",
        "The code for this is provided. You should only read it."
      ]
    },
    {
      "cell_type": "code",
      "execution_count": null,
      "metadata": {
        "id": "VcbiLxfaVFOq"
      },
      "outputs": [],
      "source": [
        "cache = {}\n",
        "def hashable_cache(f):\n",
        "    def inner(url, session):\n",
        "        if url not in cache:\n",
        "            cache[url] = f(url, session)\n",
        "        return cache[url]\n",
        "    return inner"
      ]
    },
    {
      "cell_type": "markdown",
      "metadata": {
        "id": "HJU9Hw8jZbV8"
      },
      "source": [
        "Overwrite the `get_first_paragraph()` function to use the new decorator like this: `@hashable_cache`.\n"
      ]
    },
    {
      "cell_type": "code",
      "execution_count": null,
      "metadata": {
        "id": "T6FbVRw8Z3kA"
      },
      "outputs": [],
      "source": [
        "# <20 lines"
      ]
    },
    {
      "cell_type": "markdown",
      "metadata": {
        "id": "LypJpspWZ8se"
      },
      "source": [
        "Check that the cache is working again."
      ]
    },
    {
      "cell_type": "code",
      "execution_count": null,
      "metadata": {
        "id": "Zd9uYmq0aEQa"
      },
      "outputs": [],
      "source": [
        "# Just run it.\n",
        "%%timeit\n",
        "leaders_per_country = get_leaders()"
      ]
    },
    {
      "cell_type": "markdown",
      "metadata": {
        "id": "LtLTvw3wPqe0"
      },
      "source": [
        "## Saving your hard work\n",
        "\n",
        "The final step is to save the ``leaders_per_country`` dictionary in the `leaders.json` file using the [json](https://docs.python.org/3/library/json.html) module. Make a tour in our [file handling section](../../2.python/2.python_advanced/04.File-handling/file_handling.ipynb) to know more about how to read and write files using Python."
      ]
    },
    {
      "cell_type": "code",
      "execution_count": null,
      "metadata": {
        "id": "pTNGKKrOjNDk"
      },
      "outputs": [],
      "source": [
        "# 3 lines\n"
      ]
    },
    {
      "cell_type": "markdown",
      "metadata": {
        "id": "v7uf_kfGCWmM"
      },
      "source": [
        "Make sure the file can be read back. Write the code to read the file."
      ]
    },
    {
      "cell_type": "code",
      "execution_count": null,
      "metadata": {
        "id": "4VwNjBYyjPzs"
      },
      "outputs": [],
      "source": [
        "#3 lines"
      ]
    },
    {
      "cell_type": "markdown",
      "metadata": {
        "id": "1fW_U7gXktyv"
      },
      "source": [
        "Make a function `save(leaders_per_country)` to call this code easily."
      ]
    },
    {
      "cell_type": "code",
      "execution_count": null,
      "metadata": {
        "id": "EfknpnTljqUd"
      },
      "outputs": [],
      "source": [
        "# 3 lines\n"
      ]
    },
    {
      "cell_type": "code",
      "execution_count": null,
      "metadata": {
        "id": "lWQ6bbn31cix"
      },
      "outputs": [],
      "source": [
        "# Call the function (1 line)"
      ]
    },
    {
      "cell_type": "markdown",
      "metadata": {
        "id": "W5W6nPihlQo9"
      },
      "source": [
        "## Tidy things up in a stand-alone python script\n",
        "\n",
        "Congratulations! You now have a working scraper! However, your code is scattered throughout this notebook along side the tutorials. Hardly production ready...\n",
        "\n",
        "Copy and paste what you need in a separate `leaders_scraper.py` file.\n",
        "Make sure it works by calling `python3 leaders_scraper.py`"
      ]
    },
    {
      "cell_type": "markdown",
      "metadata": {
        "id": "D0cvv193mlxY"
      },
      "source": [
        "## To go further\n",
        "\n",
        "If you want to practice scraping, you can read this section and tackle the exercise.\n",
        "\n",
        "You have noticed the API returns very partial results for country leaders. Many are missing. Overwrite the `get_leaders()` function to get its list from Wikipedia and extract their *personal details* from the frame on the side.\n",
        "\n",
        "Good luck!"
      ]
    }
  ],
  "metadata": {
    "colab": {
      "collapsed_sections": [],
      "provenance": [],
      "toc_visible": true
    },
    "kernelspec": {
      "display_name": "wikipedia_scraper",
      "language": "python",
      "name": "python3"
    },
    "language_info": {
      "codemirror_mode": {
        "name": "ipython",
        "version": 3
      },
      "file_extension": ".py",
      "mimetype": "text/x-python",
      "name": "python",
      "nbconvert_exporter": "python",
      "pygments_lexer": "ipython3",
      "version": "3.9.7"
    },
    "vscode": {
      "interpreter": {
        "hash": "ddd35a87b2b6efd6eeb7c99d0defef640010ff57ef8324972ef2aeddb611d912"
      }
    }
  },
  "nbformat": 4,
  "nbformat_minor": 0
}
